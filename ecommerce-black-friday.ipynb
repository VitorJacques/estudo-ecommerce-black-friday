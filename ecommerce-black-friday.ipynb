{
 "cells": [
  {
   "cell_type": "markdown",
   "metadata": {},
   "source": [
    "# 🔬 Análise de vendas de um E-commerce na Black Friday\n",
    "---"
   ]
  },
  {
   "cell_type": "markdown",
   "metadata": {},
   "source": [
    "### Introdução\n",
    "\n",
    "\n",
    "### Dataset a ser trabalhado\n",
    "\n",
    "| Coluna                 | Descrição                                                 |\n",
    "|:-----------------------|:----------------------------------------------------------|\n",
    "| User_ID                | ID do usuário                                             |\n",
    "| Product_ID             | ID do produto                                             |\n",
    "| Gender                 | Sexo do usuário                                           |\n",
    "| Age                    | Ano em intervalos                                         |\n",
    "| Occupation             | Ocupação (mascarada)                                      |\n",
    "| City_Category          | Categoria da cidade (A, B, C)                             |\n",
    "| StayInCurrentCityYears | Número de anos de permanência na cidade atual             |\n",
    "| Marital_Status         | Estado civil                                              |\n",
    "| Product_Category_1     | Categoria do produto (Mascarada)                          |\n",
    "| Product_Category_2     | Categoria que o produto pode pertencer também (Mascarada) |\n",
    "| Product_Category_3     | Categoria que o produto pode pertencer também (Mascarada) |\n",
    "| Purchase               | Valor da compra                                           |\n",
    "\n",
    "### Objetivo\n"
   ]
  },
  {
   "cell_type": "markdown",
   "metadata": {},
   "source": [
    "## 🔨 Set up da análise"
   ]
  },
  {
   "cell_type": "code",
   "execution_count": 17,
   "metadata": {},
   "outputs": [],
   "source": [
    "# Preparando a caixa de ferramentas\n",
    "import pandas as pd\n",
    "import numpy as np\n",
    "import seaborn as sns\n",
    "import matplotlib.pyplot as plt\n",
    "from IPython.core.interactiveshell import InteractiveShell\n",
    "\n",
    "# Apresentar todos os valores da célula no output\n",
    "InteractiveShell.ast_node_interactivity = \"all\"\n",
    "\n",
    "%matplotlib inline"
   ]
  },
  {
   "cell_type": "markdown",
   "metadata": {},
   "source": [
    "### Análise dos Datasets\n",
    "Os Datasets estão separados em três arquivos .csv com delimitadores diferentes. O objetivo aqui é:\n",
    "\n",
    "1. Ler e visualizar os datasets.\n",
    "2. Unir os datasets.\n",
    "3. Preparar o dataset final para manipulação.\n",
    "\n",
    "### Leitura e Visualização"
   ]
  },
  {
   "cell_type": "code",
   "execution_count": 3,
   "metadata": {},
   "outputs": [],
   "source": [
    "df_purchase = pd.read_csv('data/purchase.csv')\n",
    "df_user_info = pd.read_csv('data/user_profile.csv', delimiter='|')\n",
    "df_product_info = pd.read_csv('data/product_info.csv', delimiter=';')"
   ]
  },
  {
   "cell_type": "code",
   "execution_count": 4,
   "metadata": {},
   "outputs": [
    {
     "name": "stdout",
     "output_type": "stream",
     "text": [
      "\n",
      "Dataset \"purchase\".\n",
      "(linhas, colunas) = (537577, 3)\n"
     ]
    },
    {
     "data": {
      "text/html": [
       "<div>\n",
       "<style scoped>\n",
       "    .dataframe tbody tr th:only-of-type {\n",
       "        vertical-align: middle;\n",
       "    }\n",
       "\n",
       "    .dataframe tbody tr th {\n",
       "        vertical-align: top;\n",
       "    }\n",
       "\n",
       "    .dataframe thead th {\n",
       "        text-align: right;\n",
       "    }\n",
       "</style>\n",
       "<table border=\"1\" class=\"dataframe\">\n",
       "  <thead>\n",
       "    <tr style=\"text-align: right;\">\n",
       "      <th></th>\n",
       "      <th>User_ID</th>\n",
       "      <th>Product_ID</th>\n",
       "      <th>Purchase</th>\n",
       "    </tr>\n",
       "  </thead>\n",
       "  <tbody>\n",
       "    <tr>\n",
       "      <th>0</th>\n",
       "      <td>1000001</td>\n",
       "      <td>P00069042</td>\n",
       "      <td>8370</td>\n",
       "    </tr>\n",
       "    <tr>\n",
       "      <th>1</th>\n",
       "      <td>1000001</td>\n",
       "      <td>P00248942</td>\n",
       "      <td>15200</td>\n",
       "    </tr>\n",
       "  </tbody>\n",
       "</table>\n",
       "</div>"
      ],
      "text/plain": [
       "   User_ID Product_ID  Purchase\n",
       "0  1000001  P00069042      8370\n",
       "1  1000001  P00248942     15200"
      ]
     },
     "execution_count": 4,
     "metadata": {},
     "output_type": "execute_result"
    },
    {
     "name": "stdout",
     "output_type": "stream",
     "text": [
      "\n",
      "Dataset \"product_info\".\n",
      "(linhas, colunas) = (3623, 4)\n"
     ]
    },
    {
     "data": {
      "text/html": [
       "<div>\n",
       "<style scoped>\n",
       "    .dataframe tbody tr th:only-of-type {\n",
       "        vertical-align: middle;\n",
       "    }\n",
       "\n",
       "    .dataframe tbody tr th {\n",
       "        vertical-align: top;\n",
       "    }\n",
       "\n",
       "    .dataframe thead th {\n",
       "        text-align: right;\n",
       "    }\n",
       "</style>\n",
       "<table border=\"1\" class=\"dataframe\">\n",
       "  <thead>\n",
       "    <tr style=\"text-align: right;\">\n",
       "      <th></th>\n",
       "      <th>Product_ID</th>\n",
       "      <th>Product_Category_1</th>\n",
       "      <th>Product_Category_2</th>\n",
       "      <th>Product_Category_3</th>\n",
       "    </tr>\n",
       "  </thead>\n",
       "  <tbody>\n",
       "    <tr>\n",
       "      <th>0</th>\n",
       "      <td>P00069042</td>\n",
       "      <td>3</td>\n",
       "      <td>NaN</td>\n",
       "      <td>NaN</td>\n",
       "    </tr>\n",
       "    <tr>\n",
       "      <th>1</th>\n",
       "      <td>P00248942</td>\n",
       "      <td>1</td>\n",
       "      <td>6.0</td>\n",
       "      <td>14.0</td>\n",
       "    </tr>\n",
       "  </tbody>\n",
       "</table>\n",
       "</div>"
      ],
      "text/plain": [
       "  Product_ID  Product_Category_1  Product_Category_2  Product_Category_3\n",
       "0  P00069042                   3                 NaN                 NaN\n",
       "1  P00248942                   1                 6.0                14.0"
      ]
     },
     "execution_count": 4,
     "metadata": {},
     "output_type": "execute_result"
    },
    {
     "name": "stdout",
     "output_type": "stream",
     "text": [
      "\n",
      "Dataset \"user_info\".\n",
      "(linhas, colunas) = (5891, 7)\n"
     ]
    },
    {
     "data": {
      "text/html": [
       "<div>\n",
       "<style scoped>\n",
       "    .dataframe tbody tr th:only-of-type {\n",
       "        vertical-align: middle;\n",
       "    }\n",
       "\n",
       "    .dataframe tbody tr th {\n",
       "        vertical-align: top;\n",
       "    }\n",
       "\n",
       "    .dataframe thead th {\n",
       "        text-align: right;\n",
       "    }\n",
       "</style>\n",
       "<table border=\"1\" class=\"dataframe\">\n",
       "  <thead>\n",
       "    <tr style=\"text-align: right;\">\n",
       "      <th></th>\n",
       "      <th>User_ID</th>\n",
       "      <th>Gender</th>\n",
       "      <th>Age</th>\n",
       "      <th>Occupation</th>\n",
       "      <th>City_Category</th>\n",
       "      <th>Stay_In_Current_City_Years</th>\n",
       "      <th>Marital_Status</th>\n",
       "    </tr>\n",
       "  </thead>\n",
       "  <tbody>\n",
       "    <tr>\n",
       "      <th>0</th>\n",
       "      <td>1000001</td>\n",
       "      <td>F</td>\n",
       "      <td>0-17</td>\n",
       "      <td>10</td>\n",
       "      <td>A</td>\n",
       "      <td>2</td>\n",
       "      <td>0</td>\n",
       "    </tr>\n",
       "    <tr>\n",
       "      <th>1</th>\n",
       "      <td>1000002</td>\n",
       "      <td>M</td>\n",
       "      <td>55+</td>\n",
       "      <td>16</td>\n",
       "      <td>C</td>\n",
       "      <td>4+</td>\n",
       "      <td>0</td>\n",
       "    </tr>\n",
       "  </tbody>\n",
       "</table>\n",
       "</div>"
      ],
      "text/plain": [
       "   User_ID Gender   Age  Occupation City_Category Stay_In_Current_City_Years  \\\n",
       "0  1000001      F  0-17          10             A                          2   \n",
       "1  1000002      M   55+          16             C                         4+   \n",
       "\n",
       "   Marital_Status  \n",
       "0               0  \n",
       "1               0  "
      ]
     },
     "execution_count": 4,
     "metadata": {},
     "output_type": "execute_result"
    }
   ],
   "source": [
    "# Analisando o dataset user_info\n",
    "print('\\nDataset \"purchase\".',\n",
    "      f'(linhas, colunas) = {df_purchase.shape}',\n",
    "      sep='\\n')\n",
    "\n",
    "df_purchase.head(2)\n",
    "\n",
    "# Analisando o dataset product_info\n",
    "print('\\nDataset \"product_info\".',\n",
    "      f'(linhas, colunas) = {df_product_info.shape}',\n",
    "      sep='\\n')\n",
    "\n",
    "df_product_info.head(2)\n",
    "\n",
    "# Analisando o dataset user_info\n",
    "print('\\nDataset \"user_info\".',\n",
    "      f'(linhas, colunas) = {df_user_info.shape}',\n",
    "      sep='\\n')\n",
    "\n",
    "df_user_info.head(2)"
   ]
  },
  {
   "cell_type": "markdown",
   "metadata": {
    "scrolled": false
   },
   "source": [
    "Com a visualização inicial, pode-se representar os datasets em um diagrama UML **simplificado** (criado no [Lucidchart](https://www.lucidchart.com/)) para facilitar a visualização das relações entre as bases de dados.\n",
    "\n",
    "<img src=\"imgs/diagrama_datasets.png\" width=\"700\">\n",
    "\n",
    "### União\n",
    "\n",
    "Como o dataset \"df_purchase\" possui os as variáveis \"User_ID\" e \"Product_ID\" (que não tem valores nulos e podem ser consideradas chaves primárias), ele será usado para \"agregar\" os demais com o **pd.merge** e gerar o dataset/DataFrame final."
   ]
  },
  {
   "cell_type": "code",
   "execution_count": 233,
   "metadata": {},
   "outputs": [],
   "source": [
    "df = pd.merge(left=df_purchase, right=df_user_info, how='inner', on='User_ID')\n",
    "df = pd.merge(left=df, right=df_product_info, how='inner', on='Product_ID')"
   ]
  },
  {
   "cell_type": "markdown",
   "metadata": {},
   "source": [
    "### Preparação\n",
    "\n",
    "Usando a função **pd.info()** no DataFrame final."
   ]
  },
  {
   "cell_type": "code",
   "execution_count": 46,
   "metadata": {},
   "outputs": [
    {
     "name": "stdout",
     "output_type": "stream",
     "text": [
      "<class 'pandas.core.frame.DataFrame'>\n",
      "Int64Index: 537577 entries, 0 to 537576\n",
      "Data columns (total 12 columns):\n",
      " #   Column                      Non-Null Count   Dtype  \n",
      "---  ------                      --------------   -----  \n",
      " 0   User_ID                     537577 non-null  int64  \n",
      " 1   Product_ID                  537577 non-null  object \n",
      " 2   Purchase                    537577 non-null  int64  \n",
      " 3   Gender                      537577 non-null  object \n",
      " 4   Age                         537577 non-null  object \n",
      " 5   Occupation                  537577 non-null  int64  \n",
      " 6   City_Category               537577 non-null  object \n",
      " 7   Stay_In_Current_City_Years  537577 non-null  object \n",
      " 8   Marital_Status              537577 non-null  int64  \n",
      " 9   Product_Category_1          537577 non-null  int64  \n",
      " 10  Product_Category_2          370591 non-null  float64\n",
      " 11  Product_Category_3          164278 non-null  float64\n",
      "dtypes: float64(2), int64(5), object(5)\n",
      "memory usage: 53.3+ MB\n"
     ]
    }
   ],
   "source": [
    "df.info()"
   ]
  },
  {
   "cell_type": "markdown",
   "metadata": {},
   "source": [
    "Notamos que as colunas de categoria do produto tem **tipos de dados diferentes**. Isso irá influenciar a manipulação do DataFrame na questão 10. Portanto, iremos padronizá-los. Para isso, temos as alternativas:\n",
    "\n",
    "- **Transformar a coluna de categoria do produto 2 e 3 em \"int64\".**\n",
    "\n",
    "A função **pd.info()** também nos permite notar que as variáveis de categoria do produto 2 e 3 possuem valores nulos, o que não permite a conversão direta da coluna usando **.astype('int64')**. Existem *workarounds* para esse caso, mas bucaremos outro caminho.\n",
    "\n",
    "- **Transformar a coluna de categoria do produto 1 em \"float64\".**\n",
    "\n",
    "Essa alternativa atingiria o objetivo proposto. Porém, gostaríamos de apresentar as categorias como valores inteiros.\n",
    "\n",
    "- **Transformar a coluna de categoria do produto 2 e 3 em \"Int64\" (com I maiúsculo).**\n",
    "\n",
    "É um tipo de dado mais novo do **pandas** que permite nulos e inteiros. Para explorar os tipos de dados, preferimos seguir por esse caminho."
   ]
  },
  {
   "cell_type": "code",
   "execution_count": 235,
   "metadata": {},
   "outputs": [],
   "source": [
    "df['Product_Category_1'] = df['Product_Category_1'].astype('Int64')\n",
    "df['Product_Category_2'] = df['Product_Category_2'].astype('Int64')\n",
    "df['Product_Category_3'] = df['Product_Category_3'].astype('Int64')"
   ]
  },
  {
   "cell_type": "markdown",
   "metadata": {},
   "source": [
    "Com o dataset preparado, podemos seguir para a resposta das questões."
   ]
  },
  {
   "cell_type": "markdown",
   "metadata": {},
   "source": [
    "## 🔍 Questão 1\n",
    "\n",
    "Quantas observações e quantas colunas há no dataset completo? Responda no formato de uma tupla `(n_observacoes, n_colunas)`."
   ]
  },
  {
   "cell_type": "code",
   "execution_count": 48,
   "metadata": {},
   "outputs": [],
   "source": [
    "def final_dataset_shape(df: pd.DataFrame) -> tuple:\n",
    "    \"\"\"Extrai e retorna o formato (n_observacoes, n_colunas) de um DataFrame.\"\"\"\n",
    "    \n",
    "    return df.shape"
   ]
  },
  {
   "cell_type": "code",
   "execution_count": 49,
   "metadata": {},
   "outputs": [
    {
     "data": {
      "text/plain": [
       "(537577, 12)"
      ]
     },
     "execution_count": 49,
     "metadata": {},
     "output_type": "execute_result"
    }
   ],
   "source": [
    "final_dataset_shape(df)"
   ]
  },
  {
   "cell_type": "markdown",
   "metadata": {},
   "source": [
    "## 🔍 Questão 2\n",
    "\n",
    "Há quantas mulheres com idade entre 26 e 35 anos no dataset? Responda como um único escalar."
   ]
  },
  {
   "cell_type": "code",
   "execution_count": 178,
   "metadata": {},
   "outputs": [],
   "source": [
    "def woman_filter(df: pd.DataFrame) -> int:\n",
    "    \"\"\"Determina o número de registro de mulheres de idade entre 26 e 35 anos há no dataset.\"\"\"\n",
    "    \n",
    "    # Determinando os filtros\n",
    "    gender_filter = (df['Gender'] == 'F')\n",
    "    age_filter = (df['Age'] == '26-35')\n",
    "    \n",
    "    # Retornando os valores de ID único\n",
    "    return df[gender_filter & age_filter]['User_ID'].nunique()"
   ]
  },
  {
   "cell_type": "code",
   "execution_count": 179,
   "metadata": {},
   "outputs": [
    {
     "data": {
      "text/plain": [
       "545"
      ]
     },
     "execution_count": 179,
     "metadata": {},
     "output_type": "execute_result"
    }
   ],
   "source": [
    "woman_filter(df)"
   ]
  },
  {
   "cell_type": "markdown",
   "metadata": {},
   "source": [
    "## 🔍 Questão 3\n",
    "\n",
    "Quantos usuários únicos há no dataset? Responda como um único escalar."
   ]
  },
  {
   "cell_type": "code",
   "execution_count": 52,
   "metadata": {},
   "outputs": [],
   "source": [
    "def unique_users(df: pd.DataFrame) -> int:\n",
    "    \"\"\"Determina o número de usuários únicos no dataset.\"\"\"\n",
    "    \n",
    "    return df['User_ID'].nunique()"
   ]
  },
  {
   "cell_type": "code",
   "execution_count": 53,
   "metadata": {},
   "outputs": [
    {
     "data": {
      "text/plain": [
       "5891"
      ]
     },
     "execution_count": 53,
     "metadata": {},
     "output_type": "execute_result"
    }
   ],
   "source": [
    "unique_users(df)"
   ]
  },
  {
   "cell_type": "markdown",
   "metadata": {},
   "source": [
    "## 🔍 Questão 4\n",
    "\n",
    "Qual porcentagem dos registros (percentual de linhas) possui ao menos um valor null? Responda como um único escalar entre 0 e 1."
   ]
  },
  {
   "cell_type": "code",
   "execution_count": 56,
   "metadata": {},
   "outputs": [],
   "source": [
    "def rows_containing_null(df: pd.DataFrame) -> float:\n",
    "    \"\"\"Determina o número de linhas que contém um valor nulo e divide-o pelo número total de linhas.\"\"\"\n",
    "    \n",
    "    rows_containing_null = df[df.isna().any(axis=1)].shape[0]\n",
    "    total_rows = df.shape[0]\n",
    "\n",
    "    return (rows_containing_null / total_rows)"
   ]
  },
  {
   "cell_type": "code",
   "execution_count": 57,
   "metadata": {},
   "outputs": [
    {
     "data": {
      "text/plain": [
       "0.6944102891306734"
      ]
     },
     "execution_count": 57,
     "metadata": {},
     "output_type": "execute_result"
    }
   ],
   "source": [
    "rows_containing_null(df)"
   ]
  },
  {
   "cell_type": "markdown",
   "metadata": {},
   "source": [
    "## 🔍 Questão 5\n",
    "\n",
    "Quantos valores nulos existem na variável (coluna) com o maior número de nulos? Responda como um único escalar."
   ]
  },
  {
   "cell_type": "code",
   "execution_count": 162,
   "metadata": {},
   "outputs": [],
   "source": [
    "def max_null(df: pd.DataFrame) -> int:\n",
    "    \"\"\"Retorna o número de valores nulos na coluna com o maior número de nulos do DataFrame.\"\"\"\n",
    "    \n",
    "    return df.isna().sum().max()"
   ]
  },
  {
   "cell_type": "code",
   "execution_count": 163,
   "metadata": {},
   "outputs": [
    {
     "data": {
      "text/plain": [
       "373299"
      ]
     },
     "execution_count": 163,
     "metadata": {},
     "output_type": "execute_result"
    }
   ],
   "source": [
    "max_null(df)"
   ]
  },
  {
   "cell_type": "markdown",
   "metadata": {},
   "source": [
    "## 🔍 Questão 6\n",
    "\n",
    "Qual o valor mais frequente (sem contar nulos) em `Product_Category_3`? Responda como um único escalar."
   ]
  },
  {
   "cell_type": "code",
   "execution_count": 180,
   "metadata": {},
   "outputs": [],
   "source": [
    "def most_frequent(df: pd.DataFrame) -> int:\n",
    "    \"\"\"\n",
    "    Checa quantos valores tem o número máximo de repetições na coluna 'Product_Category_3'.\n",
    "    Se houver mais de um valores, retorn um pd.Series com todos os valores.\n",
    "    Se houver somente um valor, retorna-o como um escalar.\n",
    "    \"\"\"\n",
    "    \n",
    "    # Checando se há mais de um valor com o máximo de repetições\n",
    "    if df['Product_Category_3'].mode().shape[0] > 1:\n",
    "        print('Atenção: há mais de um valor com o número máximo de repetições. '\n",
    "              'Nesse caso, o retorno será um pd.Series com todos os valores.')\n",
    "        \n",
    "        return df['Product_Category_3'].mode().values\n",
    "    \n",
    "    else:\n",
    "        return df['Product_Category_3'].mode()[0]"
   ]
  },
  {
   "cell_type": "code",
   "execution_count": 181,
   "metadata": {},
   "outputs": [
    {
     "data": {
      "text/plain": [
       "16"
      ]
     },
     "execution_count": 181,
     "metadata": {},
     "output_type": "execute_result"
    }
   ],
   "source": [
    "most_frequent(df)"
   ]
  },
  {
   "cell_type": "markdown",
   "metadata": {},
   "source": [
    "## 🔍 Questão 7\n",
    "\n",
    "Podemos afirmar que se uma observação é nula em `Product_Category_2` ela também o é em `Product_Category_3`? Responda com um bool (`True`, `False`)."
   ]
  },
  {
   "cell_type": "markdown",
   "metadata": {},
   "source": [
    "Nessa questão, busca-se observar a validade da afirmação:\n",
    "    \n",
    "    Se (uma observação é nula em Product_Category_2) então (ela também é nula em Product_Category_3).\n",
    "    \n",
    "Em outras palavras:\n",
    "\n",
    "    Tudo que é nulo em Product_Category_2 também é nulo em Product_Category_3.\n",
    "    \n",
    "Para negarmos essa afirmação, precisamos verificar se **existe ao menos um registro onde `Product_Category_2` é um valor nulo e `Product_Category_3` é um valor válido.**"
   ]
  },
  {
   "cell_type": "code",
   "execution_count": 182,
   "metadata": {},
   "outputs": [],
   "source": [
    "def check_nulls_on_2_and_3(df: pd.DataFrame) -> bool:\n",
    "    \"\"\"\n",
    "    Checa se existe ao menos um registro onde o valor é nulo na categoria 2 e válido na categoria 3.\n",
    "    Se não existe, retorna True.\n",
    "    Se existe, retorna False.\n",
    "    \"\"\"\n",
    "    \n",
    "    # Cria um DataFrame contendo todos os valores nulos na categoria 2\n",
    "    df_category2_null = df[df['Product_Category_2'].isna()]\n",
    "    \n",
    "    # Checa se existe algum registro válido na categoria 3 no DataFrame df_category2_null\n",
    "    if df_category2_null[df_category2_null['Product_Category_3'].notna()].shape[0] == 0:\n",
    "        return True\n",
    "    \n",
    "    else:\n",
    "        return False"
   ]
  },
  {
   "cell_type": "code",
   "execution_count": 183,
   "metadata": {},
   "outputs": [
    {
     "data": {
      "text/plain": [
       "True"
      ]
     },
     "execution_count": 183,
     "metadata": {},
     "output_type": "execute_result"
    }
   ],
   "source": [
    "check_nulls_on_2_and_3(df)"
   ]
  },
  {
   "cell_type": "markdown",
   "metadata": {},
   "source": [
    "## 🔍 Questão 8\n",
    "\n",
    "Qual o ID do usuário que mais gastou na Black Friday?"
   ]
  },
  {
   "cell_type": "code",
   "execution_count": 85,
   "metadata": {},
   "outputs": [],
   "source": [
    "def user_with_max_purchase(df: pd.DataFrame) -> int:\n",
    "    \"\"\"Retorna o ID do usuário com a maior soma na categoria 'Purchase'.\"\"\"\n",
    "    \n",
    "    return df.groupby(by=['User_ID'])['Purchase'].sum().idxmax()"
   ]
  },
  {
   "cell_type": "code",
   "execution_count": 184,
   "metadata": {},
   "outputs": [
    {
     "data": {
      "text/plain": [
       "1004277"
      ]
     },
     "execution_count": 184,
     "metadata": {},
     "output_type": "execute_result"
    }
   ],
   "source": [
    "user_with_max_purchase(df)"
   ]
  },
  {
   "cell_type": "markdown",
   "metadata": {},
   "source": [
    "## 🔍 Questão 9\n",
    "\n",
    "Qual grupo (homens ou mulheres) mais gastou na Black Friday?"
   ]
  },
  {
   "cell_type": "code",
   "execution_count": 185,
   "metadata": {},
   "outputs": [],
   "source": [
    "def gender_with_max_purchase(df: pd.DataFrame) -> str:\n",
    "    \"\"\"Retorna o nome do sexo com a maior soma na categoria 'Purchase'.\"\"\"\n",
    "\n",
    "    # Considerando que a variável 'Gender' sempre será 'M' ou 'F'\n",
    "    if df.groupby(by=['Gender'])['Purchase'].sum().idxmax() == 'M':\n",
    "        return 'Homens'\n",
    "    \n",
    "    else:\n",
    "        return 'Mulheres'"
   ]
  },
  {
   "cell_type": "code",
   "execution_count": 186,
   "metadata": {},
   "outputs": [
    {
     "data": {
      "text/plain": [
       "'Homens'"
      ]
     },
     "execution_count": 186,
     "metadata": {},
     "output_type": "execute_result"
    }
   ],
   "source": [
    "gender_with_max_purchase(df)"
   ]
  },
  {
   "cell_type": "markdown",
   "metadata": {},
   "source": [
    "## 🔍 Questão 10\n",
    "\n",
    "Faça uma nova tabela com a categoria mais comprada por cada cliente.\n",
    "\n",
    "Obs: se ele comprou um produto que possuir valores nas três colunas de categorias, então deve-se considerar todas as categorias."
   ]
  },
  {
   "cell_type": "code",
   "execution_count": 189,
   "metadata": {},
   "outputs": [],
   "source": [
    "def purchased_category_by_client(df: pd.DataFrame) -> pd.DataFrame:\n",
    "    \"\"\"\n",
    "    Cria um DataFrame com as colunas de categoria do produto.\n",
    "    Esse DataFrame passará por transformações com Melt e Pivot Table. \n",
    "    Retorna a contagem de compras em cada categoria por usuário.\n",
    "    \"\"\"\n",
    "    \n",
    "    # Criando um DataFrame somente com as categorias de produto\n",
    "    df_categories = df[['User_ID','Product_Category_1', 'Product_Category_2', 'Product_Category_3']]\n",
    "    \n",
    "    # 'Melting' o DataFrame e renomeando as colunas para visualização\n",
    "    df_melted_categories = df_categories.melt(id_vars = 'User_ID')\n",
    "    df_melted_categories.rename({'value': 'Product_Category',\n",
    "                                 'variable': 'Variable'},\n",
    "                                axis=1, \n",
    "                                inplace=True)\n",
    "    \n",
    "    return df_melted_categories.pivot_table(index='User_ID',\n",
    "                                            columns='Product_Category',\n",
    "                                            aggfunc='count',\n",
    "                                            fill_value=0)"
   ]
  },
  {
   "cell_type": "code",
   "execution_count": 190,
   "metadata": {},
   "outputs": [
    {
     "data": {
      "text/html": [
       "<div>\n",
       "<style scoped>\n",
       "    .dataframe tbody tr th:only-of-type {\n",
       "        vertical-align: middle;\n",
       "    }\n",
       "\n",
       "    .dataframe tbody tr th {\n",
       "        vertical-align: top;\n",
       "    }\n",
       "\n",
       "    .dataframe thead tr th {\n",
       "        text-align: left;\n",
       "    }\n",
       "\n",
       "    .dataframe thead tr:last-of-type th {\n",
       "        text-align: right;\n",
       "    }\n",
       "</style>\n",
       "<table border=\"1\" class=\"dataframe\">\n",
       "  <thead>\n",
       "    <tr>\n",
       "      <th></th>\n",
       "      <th colspan=\"18\" halign=\"left\">Variable</th>\n",
       "    </tr>\n",
       "    <tr>\n",
       "      <th>Product_Category</th>\n",
       "      <th>1</th>\n",
       "      <th>2</th>\n",
       "      <th>3</th>\n",
       "      <th>4</th>\n",
       "      <th>5</th>\n",
       "      <th>6</th>\n",
       "      <th>7</th>\n",
       "      <th>8</th>\n",
       "      <th>9</th>\n",
       "      <th>10</th>\n",
       "      <th>11</th>\n",
       "      <th>12</th>\n",
       "      <th>13</th>\n",
       "      <th>14</th>\n",
       "      <th>15</th>\n",
       "      <th>16</th>\n",
       "      <th>17</th>\n",
       "      <th>18</th>\n",
       "    </tr>\n",
       "    <tr>\n",
       "      <th>User_ID</th>\n",
       "      <th></th>\n",
       "      <th></th>\n",
       "      <th></th>\n",
       "      <th></th>\n",
       "      <th></th>\n",
       "      <th></th>\n",
       "      <th></th>\n",
       "      <th></th>\n",
       "      <th></th>\n",
       "      <th></th>\n",
       "      <th></th>\n",
       "      <th></th>\n",
       "      <th></th>\n",
       "      <th></th>\n",
       "      <th></th>\n",
       "      <th></th>\n",
       "      <th></th>\n",
       "      <th></th>\n",
       "    </tr>\n",
       "  </thead>\n",
       "  <tbody>\n",
       "    <tr>\n",
       "      <th>1000001</th>\n",
       "      <td>4</td>\n",
       "      <td>3</td>\n",
       "      <td>11</td>\n",
       "      <td>13</td>\n",
       "      <td>5</td>\n",
       "      <td>2</td>\n",
       "      <td>0</td>\n",
       "      <td>13</td>\n",
       "      <td>2</td>\n",
       "      <td>0</td>\n",
       "      <td>0</td>\n",
       "      <td>8</td>\n",
       "      <td>0</td>\n",
       "      <td>3</td>\n",
       "      <td>1</td>\n",
       "      <td>2</td>\n",
       "      <td>2</td>\n",
       "      <td>0</td>\n",
       "    </tr>\n",
       "    <tr>\n",
       "      <th>1000002</th>\n",
       "      <td>31</td>\n",
       "      <td>9</td>\n",
       "      <td>0</td>\n",
       "      <td>0</td>\n",
       "      <td>15</td>\n",
       "      <td>9</td>\n",
       "      <td>0</td>\n",
       "      <td>46</td>\n",
       "      <td>1</td>\n",
       "      <td>1</td>\n",
       "      <td>2</td>\n",
       "      <td>0</td>\n",
       "      <td>3</td>\n",
       "      <td>10</td>\n",
       "      <td>7</td>\n",
       "      <td>14</td>\n",
       "      <td>7</td>\n",
       "      <td>1</td>\n",
       "    </tr>\n",
       "    <tr>\n",
       "      <th>1000003</th>\n",
       "      <td>15</td>\n",
       "      <td>15</td>\n",
       "      <td>1</td>\n",
       "      <td>1</td>\n",
       "      <td>15</td>\n",
       "      <td>0</td>\n",
       "      <td>0</td>\n",
       "      <td>6</td>\n",
       "      <td>0</td>\n",
       "      <td>0</td>\n",
       "      <td>2</td>\n",
       "      <td>0</td>\n",
       "      <td>0</td>\n",
       "      <td>3</td>\n",
       "      <td>1</td>\n",
       "      <td>2</td>\n",
       "      <td>0</td>\n",
       "      <td>4</td>\n",
       "    </tr>\n",
       "    <tr>\n",
       "      <th>1000004</th>\n",
       "      <td>13</td>\n",
       "      <td>4</td>\n",
       "      <td>0</td>\n",
       "      <td>0</td>\n",
       "      <td>0</td>\n",
       "      <td>1</td>\n",
       "      <td>0</td>\n",
       "      <td>2</td>\n",
       "      <td>1</td>\n",
       "      <td>0</td>\n",
       "      <td>2</td>\n",
       "      <td>0</td>\n",
       "      <td>0</td>\n",
       "      <td>2</td>\n",
       "      <td>5</td>\n",
       "      <td>3</td>\n",
       "      <td>1</td>\n",
       "      <td>0</td>\n",
       "    </tr>\n",
       "    <tr>\n",
       "      <th>1000005</th>\n",
       "      <td>18</td>\n",
       "      <td>5</td>\n",
       "      <td>2</td>\n",
       "      <td>4</td>\n",
       "      <td>26</td>\n",
       "      <td>9</td>\n",
       "      <td>5</td>\n",
       "      <td>57</td>\n",
       "      <td>0</td>\n",
       "      <td>1</td>\n",
       "      <td>5</td>\n",
       "      <td>2</td>\n",
       "      <td>4</td>\n",
       "      <td>13</td>\n",
       "      <td>6</td>\n",
       "      <td>21</td>\n",
       "      <td>2</td>\n",
       "      <td>0</td>\n",
       "    </tr>\n",
       "    <tr>\n",
       "      <th>...</th>\n",
       "      <td>...</td>\n",
       "      <td>...</td>\n",
       "      <td>...</td>\n",
       "      <td>...</td>\n",
       "      <td>...</td>\n",
       "      <td>...</td>\n",
       "      <td>...</td>\n",
       "      <td>...</td>\n",
       "      <td>...</td>\n",
       "      <td>...</td>\n",
       "      <td>...</td>\n",
       "      <td>...</td>\n",
       "      <td>...</td>\n",
       "      <td>...</td>\n",
       "      <td>...</td>\n",
       "      <td>...</td>\n",
       "      <td>...</td>\n",
       "      <td>...</td>\n",
       "    </tr>\n",
       "    <tr>\n",
       "      <th>1006036</th>\n",
       "      <td>81</td>\n",
       "      <td>41</td>\n",
       "      <td>14</td>\n",
       "      <td>26</td>\n",
       "      <td>140</td>\n",
       "      <td>34</td>\n",
       "      <td>7</td>\n",
       "      <td>209</td>\n",
       "      <td>8</td>\n",
       "      <td>11</td>\n",
       "      <td>39</td>\n",
       "      <td>9</td>\n",
       "      <td>16</td>\n",
       "      <td>73</td>\n",
       "      <td>79</td>\n",
       "      <td>65</td>\n",
       "      <td>15</td>\n",
       "      <td>6</td>\n",
       "    </tr>\n",
       "    <tr>\n",
       "      <th>1006037</th>\n",
       "      <td>14</td>\n",
       "      <td>5</td>\n",
       "      <td>0</td>\n",
       "      <td>2</td>\n",
       "      <td>25</td>\n",
       "      <td>12</td>\n",
       "      <td>0</td>\n",
       "      <td>61</td>\n",
       "      <td>4</td>\n",
       "      <td>4</td>\n",
       "      <td>4</td>\n",
       "      <td>1</td>\n",
       "      <td>8</td>\n",
       "      <td>16</td>\n",
       "      <td>14</td>\n",
       "      <td>38</td>\n",
       "      <td>9</td>\n",
       "      <td>1</td>\n",
       "    </tr>\n",
       "    <tr>\n",
       "      <th>1006038</th>\n",
       "      <td>0</td>\n",
       "      <td>0</td>\n",
       "      <td>2</td>\n",
       "      <td>0</td>\n",
       "      <td>6</td>\n",
       "      <td>0</td>\n",
       "      <td>0</td>\n",
       "      <td>6</td>\n",
       "      <td>0</td>\n",
       "      <td>0</td>\n",
       "      <td>1</td>\n",
       "      <td>0</td>\n",
       "      <td>0</td>\n",
       "      <td>4</td>\n",
       "      <td>0</td>\n",
       "      <td>0</td>\n",
       "      <td>3</td>\n",
       "      <td>0</td>\n",
       "    </tr>\n",
       "    <tr>\n",
       "      <th>1006039</th>\n",
       "      <td>7</td>\n",
       "      <td>6</td>\n",
       "      <td>11</td>\n",
       "      <td>9</td>\n",
       "      <td>36</td>\n",
       "      <td>1</td>\n",
       "      <td>0</td>\n",
       "      <td>13</td>\n",
       "      <td>3</td>\n",
       "      <td>3</td>\n",
       "      <td>1</td>\n",
       "      <td>20</td>\n",
       "      <td>12</td>\n",
       "      <td>11</td>\n",
       "      <td>2</td>\n",
       "      <td>7</td>\n",
       "      <td>2</td>\n",
       "      <td>1</td>\n",
       "    </tr>\n",
       "    <tr>\n",
       "      <th>1006040</th>\n",
       "      <td>23</td>\n",
       "      <td>10</td>\n",
       "      <td>1</td>\n",
       "      <td>3</td>\n",
       "      <td>49</td>\n",
       "      <td>15</td>\n",
       "      <td>5</td>\n",
       "      <td>87</td>\n",
       "      <td>4</td>\n",
       "      <td>6</td>\n",
       "      <td>12</td>\n",
       "      <td>3</td>\n",
       "      <td>6</td>\n",
       "      <td>24</td>\n",
       "      <td>19</td>\n",
       "      <td>19</td>\n",
       "      <td>9</td>\n",
       "      <td>1</td>\n",
       "    </tr>\n",
       "  </tbody>\n",
       "</table>\n",
       "<p>5891 rows × 18 columns</p>\n",
       "</div>"
      ],
      "text/plain": [
       "                 Variable                                                      \\\n",
       "Product_Category       1   2   3   4    5   6  7    8  9   10  11  12  13  14   \n",
       "User_ID                                                                         \n",
       "1000001                 4   3  11  13    5   2  0   13  2   0   0   8   0   3   \n",
       "1000002                31   9   0   0   15   9  0   46  1   1   2   0   3  10   \n",
       "1000003                15  15   1   1   15   0  0    6  0   0   2   0   0   3   \n",
       "1000004                13   4   0   0    0   1  0    2  1   0   2   0   0   2   \n",
       "1000005                18   5   2   4   26   9  5   57  0   1   5   2   4  13   \n",
       "...                   ...  ..  ..  ..  ...  .. ..  ... ..  ..  ..  ..  ..  ..   \n",
       "1006036                81  41  14  26  140  34  7  209  8  11  39   9  16  73   \n",
       "1006037                14   5   0   2   25  12  0   61  4   4   4   1   8  16   \n",
       "1006038                 0   0   2   0    6   0  0    6  0   0   1   0   0   4   \n",
       "1006039                 7   6  11   9   36   1  0   13  3   3   1  20  12  11   \n",
       "1006040                23  10   1   3   49  15  5   87  4   6  12   3   6  24   \n",
       "\n",
       "                                 \n",
       "Product_Category  15  16  17 18  \n",
       "User_ID                          \n",
       "1000001            1   2   2  0  \n",
       "1000002            7  14   7  1  \n",
       "1000003            1   2   0  4  \n",
       "1000004            5   3   1  0  \n",
       "1000005            6  21   2  0  \n",
       "...               ..  ..  .. ..  \n",
       "1006036           79  65  15  6  \n",
       "1006037           14  38   9  1  \n",
       "1006038            0   0   3  0  \n",
       "1006039            2   7   2  1  \n",
       "1006040           19  19   9  1  \n",
       "\n",
       "[5891 rows x 18 columns]"
      ]
     },
     "execution_count": 190,
     "metadata": {},
     "output_type": "execute_result"
    }
   ],
   "source": [
    "purchased_category_by_client(df)"
   ]
  },
  {
   "cell_type": "markdown",
   "metadata": {},
   "source": [
    "## 🔍 Questão 11\n",
    "\n",
    "Normalize a coluna Purchase. A fórmula de normalização é:\n",
    "\n",
    "\n",
    "$$x_{norm} = \\frac{x - x_{min}}{x_{max} - x_{min}} $$"
   ]
  },
  {
   "cell_type": "code",
   "execution_count": 191,
   "metadata": {},
   "outputs": [],
   "source": [
    "def normalize(df: pd.DataFrame) -> pd.DataFrame:\n",
    "    \"\"\"\n",
    "    Normaliza (com min-max) a coluna 'Purchase' do DataFrame e retorna-o com a coluna normalizada.\n",
    "    \"\"\"\n",
    "    \n",
    "    Xmin = df['Purchase'].min()\n",
    "    Xmax = df['Purchase'].max()\n",
    "    \n",
    "    df['Purchase'] = (df['Purchase']-Xmin) / (Xmax-Xmin)\n",
    "    \n",
    "    return df"
   ]
  },
  {
   "cell_type": "code",
   "execution_count": 192,
   "metadata": {},
   "outputs": [
    {
     "data": {
      "text/html": [
       "<div>\n",
       "<style scoped>\n",
       "    .dataframe tbody tr th:only-of-type {\n",
       "        vertical-align: middle;\n",
       "    }\n",
       "\n",
       "    .dataframe tbody tr th {\n",
       "        vertical-align: top;\n",
       "    }\n",
       "\n",
       "    .dataframe thead th {\n",
       "        text-align: right;\n",
       "    }\n",
       "</style>\n",
       "<table border=\"1\" class=\"dataframe\">\n",
       "  <thead>\n",
       "    <tr style=\"text-align: right;\">\n",
       "      <th></th>\n",
       "      <th>User_ID</th>\n",
       "      <th>Product_ID</th>\n",
       "      <th>Purchase</th>\n",
       "      <th>Gender</th>\n",
       "      <th>Age</th>\n",
       "      <th>Occupation</th>\n",
       "      <th>City_Category</th>\n",
       "      <th>Stay_In_Current_City_Years</th>\n",
       "      <th>Marital_Status</th>\n",
       "      <th>Product_Category_1</th>\n",
       "      <th>Product_Category_2</th>\n",
       "      <th>Product_Category_3</th>\n",
       "    </tr>\n",
       "  </thead>\n",
       "  <tbody>\n",
       "    <tr>\n",
       "      <th>0</th>\n",
       "      <td>1000001</td>\n",
       "      <td>P00069042</td>\n",
       "      <td>0.344255</td>\n",
       "      <td>F</td>\n",
       "      <td>0-17</td>\n",
       "      <td>10</td>\n",
       "      <td>A</td>\n",
       "      <td>2</td>\n",
       "      <td>0</td>\n",
       "      <td>3</td>\n",
       "      <td>&lt;NA&gt;</td>\n",
       "      <td>&lt;NA&gt;</td>\n",
       "    </tr>\n",
       "    <tr>\n",
       "      <th>1</th>\n",
       "      <td>1000017</td>\n",
       "      <td>P00069042</td>\n",
       "      <td>0.563846</td>\n",
       "      <td>M</td>\n",
       "      <td>51-55</td>\n",
       "      <td>1</td>\n",
       "      <td>C</td>\n",
       "      <td>0</td>\n",
       "      <td>0</td>\n",
       "      <td>3</td>\n",
       "      <td>&lt;NA&gt;</td>\n",
       "      <td>&lt;NA&gt;</td>\n",
       "    </tr>\n",
       "    <tr>\n",
       "      <th>2</th>\n",
       "      <td>1000023</td>\n",
       "      <td>P00069042</td>\n",
       "      <td>0.455796</td>\n",
       "      <td>M</td>\n",
       "      <td>36-45</td>\n",
       "      <td>0</td>\n",
       "      <td>B</td>\n",
       "      <td>3</td>\n",
       "      <td>1</td>\n",
       "      <td>3</td>\n",
       "      <td>&lt;NA&gt;</td>\n",
       "      <td>&lt;NA&gt;</td>\n",
       "    </tr>\n",
       "    <tr>\n",
       "      <th>3</th>\n",
       "      <td>1000030</td>\n",
       "      <td>P00069042</td>\n",
       "      <td>0.330207</td>\n",
       "      <td>F</td>\n",
       "      <td>36-45</td>\n",
       "      <td>7</td>\n",
       "      <td>C</td>\n",
       "      <td>3</td>\n",
       "      <td>0</td>\n",
       "      <td>3</td>\n",
       "      <td>&lt;NA&gt;</td>\n",
       "      <td>&lt;NA&gt;</td>\n",
       "    </tr>\n",
       "    <tr>\n",
       "      <th>4</th>\n",
       "      <td>1000073</td>\n",
       "      <td>P00069042</td>\n",
       "      <td>0.450034</td>\n",
       "      <td>M</td>\n",
       "      <td>18-25</td>\n",
       "      <td>4</td>\n",
       "      <td>A</td>\n",
       "      <td>4+</td>\n",
       "      <td>0</td>\n",
       "      <td>3</td>\n",
       "      <td>&lt;NA&gt;</td>\n",
       "      <td>&lt;NA&gt;</td>\n",
       "    </tr>\n",
       "    <tr>\n",
       "      <th>...</th>\n",
       "      <td>...</td>\n",
       "      <td>...</td>\n",
       "      <td>...</td>\n",
       "      <td>...</td>\n",
       "      <td>...</td>\n",
       "      <td>...</td>\n",
       "      <td>...</td>\n",
       "      <td>...</td>\n",
       "      <td>...</td>\n",
       "      <td>...</td>\n",
       "      <td>...</td>\n",
       "      <td>...</td>\n",
       "    </tr>\n",
       "    <tr>\n",
       "      <th>537572</th>\n",
       "      <td>1005754</td>\n",
       "      <td>P00234942</td>\n",
       "      <td>0.291681</td>\n",
       "      <td>F</td>\n",
       "      <td>18-25</td>\n",
       "      <td>1</td>\n",
       "      <td>A</td>\n",
       "      <td>2</td>\n",
       "      <td>0</td>\n",
       "      <td>5</td>\n",
       "      <td>&lt;NA&gt;</td>\n",
       "      <td>&lt;NA&gt;</td>\n",
       "    </tr>\n",
       "    <tr>\n",
       "      <th>537573</th>\n",
       "      <td>1005948</td>\n",
       "      <td>P00126342</td>\n",
       "      <td>0.407554</td>\n",
       "      <td>M</td>\n",
       "      <td>55+</td>\n",
       "      <td>13</td>\n",
       "      <td>B</td>\n",
       "      <td>0</td>\n",
       "      <td>0</td>\n",
       "      <td>8</td>\n",
       "      <td>&lt;NA&gt;</td>\n",
       "      <td>&lt;NA&gt;</td>\n",
       "    </tr>\n",
       "    <tr>\n",
       "      <th>537574</th>\n",
       "      <td>1006001</td>\n",
       "      <td>P00013442</td>\n",
       "      <td>0.087988</td>\n",
       "      <td>F</td>\n",
       "      <td>26-35</td>\n",
       "      <td>7</td>\n",
       "      <td>A</td>\n",
       "      <td>0</td>\n",
       "      <td>1</td>\n",
       "      <td>8</td>\n",
       "      <td>&lt;NA&gt;</td>\n",
       "      <td>&lt;NA&gt;</td>\n",
       "    </tr>\n",
       "    <tr>\n",
       "      <th>537575</th>\n",
       "      <td>1002315</td>\n",
       "      <td>P00063442</td>\n",
       "      <td>0.070702</td>\n",
       "      <td>M</td>\n",
       "      <td>55+</td>\n",
       "      <td>7</td>\n",
       "      <td>C</td>\n",
       "      <td>4+</td>\n",
       "      <td>1</td>\n",
       "      <td>5</td>\n",
       "      <td>&lt;NA&gt;</td>\n",
       "      <td>&lt;NA&gt;</td>\n",
       "    </tr>\n",
       "    <tr>\n",
       "      <th>537576</th>\n",
       "      <td>1003235</td>\n",
       "      <td>P00315242</td>\n",
       "      <td>0.289241</td>\n",
       "      <td>M</td>\n",
       "      <td>18-25</td>\n",
       "      <td>4</td>\n",
       "      <td>C</td>\n",
       "      <td>4+</td>\n",
       "      <td>0</td>\n",
       "      <td>5</td>\n",
       "      <td>8</td>\n",
       "      <td>&lt;NA&gt;</td>\n",
       "    </tr>\n",
       "  </tbody>\n",
       "</table>\n",
       "<p>537577 rows × 12 columns</p>\n",
       "</div>"
      ],
      "text/plain": [
       "        User_ID Product_ID  Purchase Gender    Age  Occupation City_Category  \\\n",
       "0       1000001  P00069042  0.344255      F   0-17          10             A   \n",
       "1       1000017  P00069042  0.563846      M  51-55           1             C   \n",
       "2       1000023  P00069042  0.455796      M  36-45           0             B   \n",
       "3       1000030  P00069042  0.330207      F  36-45           7             C   \n",
       "4       1000073  P00069042  0.450034      M  18-25           4             A   \n",
       "...         ...        ...       ...    ...    ...         ...           ...   \n",
       "537572  1005754  P00234942  0.291681      F  18-25           1             A   \n",
       "537573  1005948  P00126342  0.407554      M    55+          13             B   \n",
       "537574  1006001  P00013442  0.087988      F  26-35           7             A   \n",
       "537575  1002315  P00063442  0.070702      M    55+           7             C   \n",
       "537576  1003235  P00315242  0.289241      M  18-25           4             C   \n",
       "\n",
       "       Stay_In_Current_City_Years  Marital_Status  Product_Category_1  \\\n",
       "0                               2               0                   3   \n",
       "1                               0               0                   3   \n",
       "2                               3               1                   3   \n",
       "3                               3               0                   3   \n",
       "4                              4+               0                   3   \n",
       "...                           ...             ...                 ...   \n",
       "537572                          2               0                   5   \n",
       "537573                          0               0                   8   \n",
       "537574                          0               1                   8   \n",
       "537575                         4+               1                   5   \n",
       "537576                         4+               0                   5   \n",
       "\n",
       "        Product_Category_2  Product_Category_3  \n",
       "0                     <NA>                <NA>  \n",
       "1                     <NA>                <NA>  \n",
       "2                     <NA>                <NA>  \n",
       "3                     <NA>                <NA>  \n",
       "4                     <NA>                <NA>  \n",
       "...                    ...                 ...  \n",
       "537572                <NA>                <NA>  \n",
       "537573                <NA>                <NA>  \n",
       "537574                <NA>                <NA>  \n",
       "537575                <NA>                <NA>  \n",
       "537576                   8                <NA>  \n",
       "\n",
       "[537577 rows x 12 columns]"
      ]
     },
     "execution_count": 192,
     "metadata": {},
     "output_type": "execute_result"
    }
   ],
   "source": [
    "normalize(df)"
   ]
  },
  {
   "cell_type": "markdown",
   "metadata": {},
   "source": [
    "## 🔍 Questão 12\n",
    "O estado civil influencia no valor gasto e na categoria de produto comprada? Mostre!\n",
    "\n",
    "Se eu quisesse vender mais produtos da categoria 14, deveria investir em propagandas para qual estado civil?"
   ]
  },
  {
   "cell_type": "markdown",
   "metadata": {},
   "source": [
    "### Influência de estado civil no valor gasto\n",
    "\n",
    "#### 1. Estudo das variáveis: \"Purchase\" e \"Marital Status\"\n",
    "\n",
    "A variável \"Purchase\" é do tipo numérica (qualitativa) contínua. Representa o valor gasto em cada compra realizada.\n",
    "\n",
    "A variável \"Marital Status\" é do tipo categórica nominal, representada de forma binária: \"0\" representa um estado civil e \"1\" representa outro.\n",
    "\n",
    "#### 2. Estudo do método de análise.\n",
    "\n",
    "Para esse caso (variável categórica x variável numérica), há dois caminhos:\n",
    "\n",
    "1. Pode-se usar o Teste-T Independente para concluir estatísticamente se o estado civil exerce influência sobre o valor da compra.\n",
    "2. Pode-se analisar a correlação das variáveis visualmente com gráficos e tabelas de comparação.\n",
    "\n",
    "Para usar o Teste-T Independente, a variável numérica deve ter distribuição normal. Podemos observar sua distribuição com um gráfico de histograma."
   ]
  },
  {
   "cell_type": "code",
   "execution_count": 198,
   "metadata": {},
   "outputs": [
    {
     "data": {
      "text/plain": [
       "<AxesSubplot:xlabel='Purchase', ylabel='Count'>"
      ]
     },
     "execution_count": 198,
     "metadata": {},
     "output_type": "execute_result"
    },
    {
     "data": {
      "image/png": "[encoded data removed]",
      "text/plain": [
       "<Figure size 432x288 with 1 Axes>"
      ]
     },
     "metadata": {
      "needs_background": "light"
     },
     "output_type": "display_data"
    }
   ],
   "source": [
    "sns.histplot(df['Purchase'], bins=20, kde=True)"
   ]
  },
  {
   "cell_type": "markdown",
   "metadata": {},
   "source": [
    "A normalidade da distribuição não é clara. \n",
    "\n",
    "Para chegar a uma conclusão robusta, uma análise mais profunda se fazer necessária. Podendo requerer o uso de testes de normalidade (Shapiro-Wilk, D'Agostino K^2 e Anderson Darling), análise outliers e manipulação dos dados de \"Purchase\".\n",
    "\n",
    "Decidimos seguir com a alternativa 2.\n",
    "\n",
    "#### 3. Análise da correlação entre as variáveis.\n",
    "\n",
    "Observando a correlação com o uso do gráfico de Box Plot do Estado Civil x Valor e uma tabela de *group_by*."
   ]
  },
  {
   "cell_type": "code",
   "execution_count": 199,
   "metadata": {
    "scrolled": true
   },
   "outputs": [
    {
     "data": {
      "image/png": "[encoded data removed]",
      "text/plain": [
       "<Figure size 576x432 with 1 Axes>"
      ]
     },
     "metadata": {
      "needs_background": "light"
     },
     "output_type": "display_data"
    }
   ],
   "source": [
    "f, ax = plt.subplots(figsize=(8, 6))\n",
    "fig = sns.boxplot(x='Marital_Status', y='Purchase', data=df)"
   ]
  },
  {
   "cell_type": "code",
   "execution_count": 202,
   "metadata": {},
   "outputs": [
    {
     "name": "stdout",
     "output_type": "stream",
     "text": [
      "Média do valor da compra agrupada por estado civil:\n"
     ]
    },
    {
     "data": {
      "text/html": [
       "<div>\n",
       "<style scoped>\n",
       "    .dataframe tbody tr th:only-of-type {\n",
       "        vertical-align: middle;\n",
       "    }\n",
       "\n",
       "    .dataframe tbody tr th {\n",
       "        vertical-align: top;\n",
       "    }\n",
       "\n",
       "    .dataframe thead th {\n",
       "        text-align: right;\n",
       "    }\n",
       "</style>\n",
       "<table border=\"1\" class=\"dataframe\">\n",
       "  <thead>\n",
       "    <tr style=\"text-align: right;\">\n",
       "      <th></th>\n",
       "      <th>Marital_Status</th>\n",
       "      <th>Purchase</th>\n",
       "    </tr>\n",
       "  </thead>\n",
       "  <tbody>\n",
       "    <tr>\n",
       "      <th>0</th>\n",
       "      <td>0</td>\n",
       "      <td>9333.325467</td>\n",
       "    </tr>\n",
       "    <tr>\n",
       "      <th>1</th>\n",
       "      <td>1</td>\n",
       "      <td>9334.632681</td>\n",
       "    </tr>\n",
       "  </tbody>\n",
       "</table>\n",
       "</div>"
      ],
      "text/plain": [
       "   Marital_Status     Purchase\n",
       "0               0  9333.325467\n",
       "1               1  9334.632681"
      ]
     },
     "execution_count": 202,
     "metadata": {},
     "output_type": "execute_result"
    }
   ],
   "source": [
    "print('Média do valor da compra agrupada por estado civil:')\n",
    "df[['Marital_Status', 'Purchase']].groupby(['Marital_Status'], as_index=False).mean()"
   ]
  },
  {
   "cell_type": "markdown",
   "metadata": {},
   "source": [
    "#### 4. Conclusão da correlação.\n",
    "\n",
    "O gráfico de Box Plot dos dois tipos de estado civil (0 e 1) são praticamente idênticos - assim como a média apresentada na tabela.\n",
    "\n",
    "Podemos afirmar que **não há** correlação entre o estado civil e o valor gasto na compra."
   ]
  },
  {
   "cell_type": "markdown",
   "metadata": {},
   "source": [
    "### Influência de estado civil na categoria comprada\n",
    "\n",
    "#### 1. Estudo das variáveis: \"Marital_Status\" e (\"Product_Category_1\", \"Product_Category_2\", \"Product_Category_3\")\n",
    "\n",
    "A variável \"Marital Status\" é do tipo categórica nominal, representada de forma binária: \"0\" representa um estado civil e \"1\" representa outro.\n",
    "\n",
    "As variáveis \"Product_Category_X\", apesar de serem representadas como inteiros, também são categóricas nominais.\n",
    "\n",
    "#### 2. Estudo do método de análise."
   ]
  },
  {
   "cell_type": "code",
   "execution_count": 237,
   "metadata": {},
   "outputs": [
    {
     "name": "stdout",
     "output_type": "stream",
     "text": [
      "<class 'pandas.core.frame.DataFrame'>\n",
      "Int64Index: 537577 entries, 0 to 537576\n",
      "Data columns (total 12 columns):\n",
      " #   Column                      Non-Null Count   Dtype \n",
      "---  ------                      --------------   ----- \n",
      " 0   User_ID                     537577 non-null  int64 \n",
      " 1   Product_ID                  537577 non-null  object\n",
      " 2   Purchase                    537577 non-null  int64 \n",
      " 3   Gender                      537577 non-null  object\n",
      " 4   Age                         537577 non-null  object\n",
      " 5   Occupation                  537577 non-null  int64 \n",
      " 6   City_Category               537577 non-null  object\n",
      " 7   Stay_In_Current_City_Years  537577 non-null  object\n",
      " 8   Marital_Status              537577 non-null  int64 \n",
      " 9   Product_Category_1          537577 non-null  Int64 \n",
      " 10  Product_Category_2          370591 non-null  Int64 \n",
      " 11  Product_Category_3          164278 non-null  Int64 \n",
      "dtypes: Int64(3), int64(4), object(5)\n",
      "memory usage: 54.9+ MB\n"
     ]
    }
   ],
   "source": [
    "df.info()"
   ]
  },
  {
   "cell_type": "code",
   "execution_count": 236,
   "metadata": {},
   "outputs": [
    {
     "data": {
      "text/html": [
       "<div>\n",
       "<style scoped>\n",
       "    .dataframe tbody tr th:only-of-type {\n",
       "        vertical-align: middle;\n",
       "    }\n",
       "\n",
       "    .dataframe tbody tr th {\n",
       "        vertical-align: top;\n",
       "    }\n",
       "\n",
       "    .dataframe thead th {\n",
       "        text-align: right;\n",
       "    }\n",
       "</style>\n",
       "<table border=\"1\" class=\"dataframe\">\n",
       "  <thead>\n",
       "    <tr style=\"text-align: right;\">\n",
       "      <th>Marital_Status</th>\n",
       "      <th>0</th>\n",
       "      <th>1</th>\n",
       "    </tr>\n",
       "    <tr>\n",
       "      <th>Product_Category_1</th>\n",
       "      <th></th>\n",
       "      <th></th>\n",
       "    </tr>\n",
       "  </thead>\n",
       "  <tbody>\n",
       "    <tr>\n",
       "      <th>1</th>\n",
       "      <td>83230</td>\n",
       "      <td>55123</td>\n",
       "    </tr>\n",
       "    <tr>\n",
       "      <th>2</th>\n",
       "      <td>13946</td>\n",
       "      <td>9553</td>\n",
       "    </tr>\n",
       "    <tr>\n",
       "      <th>3</th>\n",
       "      <td>12158</td>\n",
       "      <td>7691</td>\n",
       "    </tr>\n",
       "    <tr>\n",
       "      <th>4</th>\n",
       "      <td>7072</td>\n",
       "      <td>4495</td>\n",
       "    </tr>\n",
       "    <tr>\n",
       "      <th>5</th>\n",
       "      <td>88411</td>\n",
       "      <td>60181</td>\n",
       "    </tr>\n",
       "    <tr>\n",
       "      <th>6</th>\n",
       "      <td>11986</td>\n",
       "      <td>8178</td>\n",
       "    </tr>\n",
       "    <tr>\n",
       "      <th>7</th>\n",
       "      <td>2004</td>\n",
       "      <td>1664</td>\n",
       "    </tr>\n",
       "    <tr>\n",
       "      <th>8</th>\n",
       "      <td>64484</td>\n",
       "      <td>47648</td>\n",
       "    </tr>\n",
       "    <tr>\n",
       "      <th>9</th>\n",
       "      <td>242</td>\n",
       "      <td>162</td>\n",
       "    </tr>\n",
       "    <tr>\n",
       "      <th>10</th>\n",
       "      <td>2734</td>\n",
       "      <td>2298</td>\n",
       "    </tr>\n",
       "    <tr>\n",
       "      <th>11</th>\n",
       "      <td>14479</td>\n",
       "      <td>9481</td>\n",
       "    </tr>\n",
       "    <tr>\n",
       "      <th>12</th>\n",
       "      <td>1999</td>\n",
       "      <td>1876</td>\n",
       "    </tr>\n",
       "    <tr>\n",
       "      <th>13</th>\n",
       "      <td>3107</td>\n",
       "      <td>2333</td>\n",
       "    </tr>\n",
       "    <tr>\n",
       "      <th>14</th>\n",
       "      <td>835</td>\n",
       "      <td>665</td>\n",
       "    </tr>\n",
       "    <tr>\n",
       "      <th>15</th>\n",
       "      <td>3577</td>\n",
       "      <td>2626</td>\n",
       "    </tr>\n",
       "    <tr>\n",
       "      <th>16</th>\n",
       "      <td>5640</td>\n",
       "      <td>4057</td>\n",
       "    </tr>\n",
       "    <tr>\n",
       "      <th>17</th>\n",
       "      <td>291</td>\n",
       "      <td>276</td>\n",
       "    </tr>\n",
       "    <tr>\n",
       "      <th>18</th>\n",
       "      <td>1622</td>\n",
       "      <td>1453</td>\n",
       "    </tr>\n",
       "  </tbody>\n",
       "</table>\n",
       "</div>"
      ],
      "text/plain": [
       "Marital_Status          0      1\n",
       "Product_Category_1              \n",
       "1                   83230  55123\n",
       "2                   13946   9553\n",
       "3                   12158   7691\n",
       "4                    7072   4495\n",
       "5                   88411  60181\n",
       "6                   11986   8178\n",
       "7                    2004   1664\n",
       "8                   64484  47648\n",
       "9                     242    162\n",
       "10                   2734   2298\n",
       "11                  14479   9481\n",
       "12                   1999   1876\n",
       "13                   3107   2333\n",
       "14                    835    665\n",
       "15                   3577   2626\n",
       "16                   5640   4057\n",
       "17                    291    276\n",
       "18                   1622   1453"
      ]
     },
     "execution_count": 236,
     "metadata": {},
     "output_type": "execute_result"
    }
   ],
   "source": [
    "test = pd.crosstab(index=df['Product_Category_1'], columns=df['Marital_Status'])\n",
    "test"
   ]
  },
  {
   "cell_type": "code",
   "execution_count": null,
   "metadata": {},
   "outputs": [],
   "source": [
    "df_product_category = df[['Marital_Status', 'Product_Category_1', 'Product_Category_3', 'Product_Category_3']]"
   ]
  },
  {
   "cell_type": "markdown",
   "metadata": {},
   "source": [
    "## 🔍 Questão 13\n",
    "Quais as variáveis que mais impactaram no valor da compra? Como você chegou a essa conclusão?"
   ]
  },
  {
   "cell_type": "markdown",
   "metadata": {},
   "source": [
    "## 📥 Teste de Reprodutibilidade\n",
    "\n",
    "Objetivo: checar se as soluções desenvolvidas para responder as questões 1-11 se aplicam a um Dataset com registros diferentes do original."
   ]
  },
  {
   "cell_type": "code",
   "execution_count": null,
   "metadata": {},
   "outputs": [],
   "source": [
    "# Preparando a caixa de ferramentas\n",
    "import pandas as pd\n",
    "import numpy as np\n",
    "\n",
    "# Lendo e armazenando o Dataset\n",
    "df_teste = pd.read_csv('data/df_teste.csv')"
   ]
  },
  {
   "cell_type": "code",
   "execution_count": null,
   "metadata": {},
   "outputs": [],
   "source": [
    "# Questão 1\n",
    "final_dataset_shape(df_teste)"
   ]
  },
  {
   "cell_type": "code",
   "execution_count": null,
   "metadata": {},
   "outputs": [],
   "source": [
    "# Questão 2\n",
    "woman_filter(df_teste)"
   ]
  },
  {
   "cell_type": "code",
   "execution_count": null,
   "metadata": {},
   "outputs": [],
   "source": [
    "# Questão 3\n",
    "unique_users(df_teste)"
   ]
  },
  {
   "cell_type": "code",
   "execution_count": null,
   "metadata": {},
   "outputs": [],
   "source": [
    "# Questão 4\n",
    "rows_containing_null(df_teste)"
   ]
  },
  {
   "cell_type": "code",
   "execution_count": null,
   "metadata": {},
   "outputs": [],
   "source": [
    "# Questão 5\n",
    "max_null(df_teste)"
   ]
  },
  {
   "cell_type": "code",
   "execution_count": null,
   "metadata": {},
   "outputs": [],
   "source": [
    "# Questão 6\n",
    "most_frequent(df_teste)"
   ]
  },
  {
   "cell_type": "code",
   "execution_count": null,
   "metadata": {},
   "outputs": [],
   "source": [
    "# Questão 7\n",
    "check_nulls_on_2_and_3(df_teste)"
   ]
  },
  {
   "cell_type": "code",
   "execution_count": null,
   "metadata": {},
   "outputs": [],
   "source": [
    "# Questão 8\n",
    "user_with_max_purchase(df_teste)"
   ]
  },
  {
   "cell_type": "code",
   "execution_count": null,
   "metadata": {},
   "outputs": [],
   "source": [
    "# Questão 9\n",
    "gender_with_max_purchase(df_teste)"
   ]
  },
  {
   "cell_type": "code",
   "execution_count": null,
   "metadata": {},
   "outputs": [],
   "source": [
    "# Questão 10\n",
    "purchased_category_by_client(df_teste)"
   ]
  },
  {
   "cell_type": "code",
   "execution_count": null,
   "metadata": {},
   "outputs": [],
   "source": [
    "# Questão 11\n",
    "normalize(df_teste)"
   ]
  }
 ],
 "metadata": {
  "kernelspec": {
   "display_name": "Python 3",
   "language": "python",
   "name": "python3"
  },
  "language_info": {
   "codemirror_mode": {
    "name": "ipython",
    "version": 3
   },
   "file_extension": ".py",
   "mimetype": "text/x-python",
   "name": "python",
   "nbconvert_exporter": "python",
   "pygments_lexer": "ipython3",
   "version": "3.8.8"
  }
 },
 "nbformat": 4,
 "nbformat_minor": 2
}
